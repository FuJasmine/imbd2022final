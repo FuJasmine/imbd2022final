{
 "cells": [
  {
   "cell_type": "code",
   "execution_count": null,
   "metadata": {},
   "outputs": [],
   "source": [
    "import copy\n",
    "import os\n",
    "import time\n",
    "import collections\n",
    "\n",
    "import numpy as np\n",
    "import pandas as pd\n",
    "from numpy import insert"
   ]
  },
  {
   "cell_type": "code",
   "execution_count": null,
   "metadata": {},
   "outputs": [],
   "source": [
    "start_time = time.time()"
   ]
  },
  {
   "cell_type": "code",
   "execution_count": null,
   "metadata": {},
   "outputs": [],
   "source": [
    "# define the path of the data\n",
    "folder_path = 'train2/'\n",
    "layers = 24\n",
    "save_foler = 'train2_data'\n",
    "\n",
    "sg_files = [folder_path+str(i)+'_sg.csv' for i in range(1, layers + 1)]\n",
    "spike_files = [folder_path+str(i)+'_spike.csv' for i in range(1, layers + 1)]"
   ]
  },
  {
   "cell_type": "code",
   "execution_count": null,
   "metadata": {},
   "outputs": [],
   "source": [
    "# read the data\n",
    "print('Reading sg...')\n",
    "sg_data = [pd.read_csv(file) for file in sg_files]\n",
    "print('Reading spike...')\n",
    "spike_data = [pd.read_csv(file) for file in spike_files]\n",
    "\n",
    "print('\\n\\n')\n",
    "print('Seperate each feature to do data preprocessing')\n",
    "print('-*-*-*' * 18 + '-')\n",
    "\n",
    "# Define feature index\n",
    "sg_feature_index = ['A', 'B', 'C', 'D', 'E', 'F', 'G', 'H', 'I']\n",
    "spike_feature_index = ['A', 'B', 'C', 'D']\n",
    "\n",
    "sg = {}\n",
    "spike = {}\n",
    "\n",
    "for i in sg_feature_index:\n",
    "    s = time.time()\n",
    "    print(str(i) + '...', end='')\n",
    "    sg['sg_' + str(i)] = [np.array(sg_data[j][i]) for j in range(layers)]\n",
    "    print('cost time: ', time.time() - s)\n",
    "for i in spike_feature_index:\n",
    "    s = time.time()\n",
    "    print(str(i) + '...', end='')\n",
    "    spike['spike_' + str(i)] = [np.array(spike_data[j][i])\n",
    "                                for j in range(layers)]\n",
    "    print('cost time: ', time.time() - s)"
   ]
  },
  {
   "cell_type": "code",
   "execution_count": null,
   "metadata": {},
   "outputs": [],
   "source": [
    "print('\\n\\n')\n",
    "print('-*-*-*' * 18 + '-')\n",
    "\n",
    "sg_feature = list(sg.keys())\n",
    "spike_feature = list(spike.keys())\n",
    "\n",
    "print('sg_dict_keys:' + str(sg.keys()))\n",
    "print('spike_dict_keys:' + str(spike.keys()))"
   ]
  },
  {
   "cell_type": "code",
   "execution_count": null,
   "metadata": {},
   "outputs": [],
   "source": [
    "def print_data(sg, spike):\n",
    "    # Show the size of our data\n",
    "    print('\\n\\n')\n",
    "    print('-*-*-*' * 18 + '-')\n",
    "\n",
    "    for i in sg_feature:\n",
    "        print(i + '| \\t\\t', '1:', sg[i][0].size, '\\t', int(layers/2)+3, ':', sg[i][int(layers/2)+2].size,\n",
    "            '\\t', int(layers/2)+4, ':', sg[i][int(layers/2)+5].size, '\\t', layers, ':', sg[i][layers-1].size,)\n",
    "\n",
    "    for i in spike_feature:\n",
    "        print(i + '| \\t', '1:', spike[i][0].size, '\\t', int(layers/2)+3, ':', spike[i][int(layers/2)+2].size,\n",
    "            '\\t', int(layers/2)+4, ':', spike[i][int(layers/2)+5].size, '\\t', layers, ':', spike[i][layers-1].size)\n",
    "\n",
    "\n",
    "print_data(sg, spike)\n"
   ]
  },
  {
   "cell_type": "code",
   "execution_count": null,
   "metadata": {},
   "outputs": [],
   "source": [
    "# If the number of data in one column is smaller than maximum, we'll use the last value of that column\n",
    "# to fill in to get a same dimension in one feature(column)\n",
    "\n",
    "# ----sg----\n",
    "max_num = max([sg[i][j].size for i in sg_feature for j in range(layers)])\n",
    "print('\\n\\n')\n",
    "print('Fill in value to get same dimension in one feature')\n",
    "print('-*-*-*' * 18 + '-')\n",
    "\n",
    "for i in sg_feature:\n",
    "    s = time.time()\n",
    "    for j in range(len(sg[i])):\n",
    "        if sg[i][j].size < max_num:\n",
    "            sg[i][j] = np.append(\n",
    "                sg[i][j], [[sg[i][j][-1]] * (max_num - sg[i][j].size)])\n",
    "    print(str(i) + '...', end='')\n",
    "    print('cost time: ', time.time() - s)\n",
    "\n",
    "\n",
    "print('--------'*10)\n",
    "# ----spike----\n",
    "max_num = max([spike[i][j].size for i in spike_feature for j in range(layers)])\n",
    "for i in spike_feature:\n",
    "    s = time.time()\n",
    "    for j in range(len(spike[i])):\n",
    "        if spike[i][j].size < max_num:\n",
    "            spike[i][j] = np.append(\n",
    "                spike[i][j], [[spike[i][j][-1]] * (max_num - spike[i][j].size)])\n",
    "    print(str(i) + '...', end='')\n",
    "    print('cost time: ', time.time() - s)\n",
    "    \n",
    "print_data(sg, spike)\n"
   ]
  },
  {
   "cell_type": "code",
   "execution_count": null,
   "metadata": {},
   "outputs": [],
   "source": [
    "# Change in sg --> change the data from absolute coordination to relative coordination (distance in each timestep)\n",
    "print('\\n\\n')\n",
    "print('Value change in sg...')\n",
    "print('-*-*-*' * 18 + '-')\n",
    "for i in sg_feature:\n",
    "    s = time.time()\n",
    "    print(str(i) + '...', end='')\n",
    "    sg[i] = [np.diff(j, prepend=j[0]) for j in sg[i]]\n",
    "    print('cost time: ', time.time() - s)"
   ]
  },
  {
   "cell_type": "code",
   "execution_count": null,
   "metadata": {},
   "outputs": [],
   "source": [
    "# Calculate B's, C's, D's values at A = 0.001, 0.002, 0.003.....\n",
    "print('\\n\\n')\n",
    "print(\"Calculate B's, C's, D's values at A = 0.001, 0.002, 0.003...\")\n",
    "print('-*-*-*' * 18 + '-')\n",
    "\n",
    "for i in spike_feature:\n",
    "    s = time.time()\n",
    "    print(str(i) + '...', end='')\n",
    "    temp_copy = copy.deepcopy(spike[i])\n",
    "    for j in range(len(temp_copy)):\n",
    "        index = range(3, spike[i][j].size-1, 5)\n",
    "        value = [(temp_copy[j][k-1] + temp_copy[j][k])/2 for k in index]\n",
    "        temp_copy[j] = insert(temp_copy[j], index, value)\n",
    "    spike[i] = temp_copy\n",
    "    print('cost time: ', time.time() - s)\n"
   ]
  },
  {
   "cell_type": "code",
   "execution_count": null,
   "metadata": {},
   "outputs": [],
   "source": [
    "# Change in spike --> change the data from absolute coordination to relative coordination (distance in each timestep)\n",
    "print('\\n\\n')\n",
    "print('Value change in spike...')\n",
    "print('-*-*-*' * 18 + '-')\n",
    "for i in spike_feature:\n",
    "    s = time.time()\n",
    "    print(str(i) + '...', end='')\n",
    "    spike[i] = [np.diff(j, prepend=j[0]) for j in spike[i]]\n",
    "    print('cost time: ', time.time() - s)\n"
   ]
  },
  {
   "cell_type": "code",
   "execution_count": null,
   "metadata": {},
   "outputs": [],
   "source": [
    "# Sum up the distance that process during one timestep 0.001\n",
    "# final_abs_: total path\n",
    "# fianl_: distance\n",
    "print('\\n\\n')\n",
    "print('Sum up the distance that process during one timestep 0.001')\n",
    "print('-*-*-*' * 18 + '-')\n",
    "\n",
    "spike_abs = {}\n",
    "spike_final = {}\n",
    "\n",
    "for i in spike_feature:\n",
    "    s = time.time()\n",
    "    print(str(i) + '_abs...', end='')\n",
    "    spike_abs[str(i)] = np.array([np.insert(np.array([sum(abs(spike[i][k][j*3+1:j*3+4]))\n",
    "                                                      for j in range(0, len(sg['sg_B'][k])-1)]), 0, 0) for k in range(len(spike[i]))])\n",
    "    print('cost time: ', time.time() - s)\n",
    "\n",
    "for i in spike_feature:\n",
    "    s = time.time()\n",
    "    print(str(i) + '_final...', end='')\n",
    "    spike_final[str(i)] = np.array([np.insert(np.array([sum((spike[i][k][j*3+1:j*3+4]))\n",
    "                                                      for j in range(0, len(sg['sg_B'][k])-1)]), 0, 0) for k in range(len(spike[i]))])\n",
    "    print('cost time: ', time.time() - s)\n"
   ]
  },
  {
   "cell_type": "code",
   "execution_count": null,
   "metadata": {},
   "outputs": [],
   "source": [
    "s = time.time()\n",
    "print('BCD_abs_distance...', end='')\n",
    "BCD_abs_distance = np.array([[pow(pow(spike_abs['spike_B'][j][i], 2) + pow(spike_abs['spike_C'][j][i], 2)\n",
    "                                  + pow(spike_abs['spike_D'][j][i], 2), 0.5) for i in range(len(spike_abs['spike_A'][j]))]\n",
    "                             for j in range(len(spike_abs['spike_A']))])\n",
    "print('cost time: ', time.time() - s)\n",
    "\n",
    "s = time.time()\n",
    "print('BCD_distance...', end='')\n",
    "BCD_distance = np.array([[pow(pow(spike_final['spike_B'][j][i], 2) + pow(spike_final['spike_C'][j][i], 2)\n",
    "                              + pow(spike_final['spike_D'][j][i], 2), 0.5) for i in range(len(spike_final['spike_A'][j]))]\n",
    "                         for j in range(len(spike_final['spike_A']))])\n",
    "print('cost time: ', time.time() - s)\n",
    "\n",
    "s = time.time()\n",
    "print('BDF_distance...', end='')\n",
    "BDF_distance = np.array([[pow(pow(sg['sg_B'][j][i], 2) + pow(sg['sg_D'][j][i], 2)\n",
    "                              + pow(sg['sg_F'][j][i], 2), 0.5) for i in range(len(sg['sg_B'][j]))]\n",
    "                         for j in range(len(sg['sg_B']))])\n",
    "print('cost time: ', time.time() - s)\n"
   ]
  },
  {
   "cell_type": "code",
   "execution_count": null,
   "metadata": {},
   "outputs": [],
   "source": [
    "# names of variables change\n",
    "for i in spike_feature:\n",
    "    spike[i] = spike_final[i]"
   ]
  },
  {
   "cell_type": "code",
   "execution_count": null,
   "metadata": {},
   "outputs": [],
   "source": [
    "print_data(sg, spike)"
   ]
  },
  {
   "cell_type": "code",
   "execution_count": null,
   "metadata": {},
   "outputs": [],
   "source": [
    "# Creaet lower noise featrue\n",
    "counter = collections.Counter([])\n",
    "for i in range(0, len(sg['sg_B'])):\n",
    "    temp_list = list(abs(np.around(sg['sg_B'][i], 4)))\n",
    "    counter = counter + collections.Counter(temp_list)\n",
    "    \n",
    "print('Frequency of each value in sg_B[0]: ', counter)\n",
    "upper = counter.most_common()[0][0]\n",
    "lower = counter.most_common()[1][0]\n",
    "print('B upper and lower', upper, lower)\n",
    "\n",
    "work_B = [[1 if abs(sg['sg_B'][i][j]) >= lower-0.0001 and abs(sg['sg_B'][i][j]) <= upper+0.0001 else 0\n",
    "           for j in range(len(sg['sg_B'][i]))] for i in range(len(sg['sg_B']))]\n",
    "\n",
    "\n",
    "counter = collections.Counter([])\n",
    "for i in range(0, len(sg['sg_B'])):\n",
    "    temp_list = list(abs(np.around(sg['sg_D'][i], 4)))\n",
    "    counter = counter + collections.Counter(temp_list)\n",
    "print('Frequency of each value in sg_D[0]: ', counter)\n",
    "upper = counter.most_common()[0][0]\n",
    "lower = counter.most_common()[1][0]\n",
    "print('D upper and lower', upper, lower)\n",
    "\n",
    "work_D = [[1 if abs(sg['sg_D'][i][j]) >= lower-0.0001 and abs(sg['sg_D'][i][j]) <= upper+0.0001 else 0\n",
    "           for j in range(len(sg['sg_D'][i]))] for i in range(len(sg['sg_D']))]\n",
    "\n",
    "spike_abs_B_lower_noise = spike_abs['spike_B'] * work_B\n",
    "spike_B_lower_noise = spike['spike_B'] * work_B\n",
    "spike_abs_C_lower_noise = spike_abs['spike_D'] * work_D\n",
    "spike_C_lower_noise = spike['spike_D'] * work_D\n",
    "\n",
    "sg_B_lower_noise = np.array(sg['sg_B']) * work_B\n",
    "sg_D_lower_noise = np.array(sg['sg_D']) * work_D\n"
   ]
  },
  {
   "cell_type": "code",
   "execution_count": null,
   "metadata": {},
   "outputs": [],
   "source": [
    "#save data\n",
    "os.makedirs(save_foler, exist_ok=True)\n",
    "\n",
    "print('saving sg...')\n",
    "for i in sg_feature:\n",
    "    np.save(os.path.join(save_foler, i), np.array(sg[i]))\n",
    "\n",
    "print('saving spike...')\n",
    "for i in spike_feature:\n",
    "    np.save(os.path.join(save_foler, i), np.array(spike[i]))\n",
    "\n",
    "print('saving spike_abs...')\n",
    "for i in spike_feature_index:\n",
    "    name = 'spike_abs_' + i\n",
    "    np.save(os.path.join(save_foler, name), np.array(spike_abs['spike_' + str(i)]))\n",
    "\n",
    "print('saving distance...')\n",
    "np.save(os.path.join(save_foler, 'BCD_abs_distance'), np.array(BCD_abs_distance))\n",
    "np.save(os.path.join(save_foler, 'BCD_distance'), np.array(BCD_distance))\n",
    "np.save(os.path.join(save_foler, 'BDF_distance'), np.array(BDF_distance))\n",
    "\n",
    "print('saving lower noise...')\n",
    "np.save(os.path.join(save_foler, 'spike_abs_B_lower_noise'), np.array(spike_abs_B_lower_noise))\n",
    "np.save(os.path.join(save_foler, 'spike_B_lower_noise'), np.array(spike_B_lower_noise))\n",
    "np.save(os.path.join(save_foler, 'spike_abs_C_lower_noise'), np.array(spike_abs_C_lower_noise))\n",
    "np.save(os.path.join(save_foler, 'spike_C_lower_noise'), np.array(spike_C_lower_noise))\n",
    "\n",
    "np.save(os.path.join(save_foler, 'sg_B_lower_noise'), np.array(sg_B_lower_noise))\n",
    "np.save(os.path.join(save_foler, 'sg_D_lower_noise'), np.array(sg_D_lower_noise))\n"
   ]
  },
  {
   "cell_type": "code",
   "execution_count": null,
   "metadata": {},
   "outputs": [],
   "source": [
    "print('saving done!')\n",
    "print('Total cost: ', time.time() - start_time)"
   ]
  }
 ],
 "metadata": {
  "kernelspec": {
   "display_name": "Python 3.10.7 ('.venv': venv)",
   "language": "python",
   "name": "python3"
  },
  "language_info": {
   "codemirror_mode": {
    "name": "ipython",
    "version": 3
   },
   "file_extension": ".py",
   "mimetype": "text/x-python",
   "name": "python",
   "nbconvert_exporter": "python",
   "pygments_lexer": "ipython3",
   "version": "3.10.7"
  },
  "orig_nbformat": 4,
  "vscode": {
   "interpreter": {
    "hash": "df60fffceb1f00e3f7f321aa5eaa19ef554ab7d6ad6d9939fc6be363c8659db3"
   }
  }
 },
 "nbformat": 4,
 "nbformat_minor": 2
}
